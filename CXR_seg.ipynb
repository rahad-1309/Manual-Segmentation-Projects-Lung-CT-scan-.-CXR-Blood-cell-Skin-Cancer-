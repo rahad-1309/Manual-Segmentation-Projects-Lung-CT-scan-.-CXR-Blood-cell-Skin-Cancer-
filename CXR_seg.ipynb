{
  "nbformat": 4,
  "nbformat_minor": 0,
  "metadata": {
    "colab": {
      "provenance": []
    },
    "kernelspec": {
      "name": "python3",
      "display_name": "Python 3"
    },
    "language_info": {
      "name": "python"
    }
  },
  "cells": [
    {
      "cell_type": "code",
      "execution_count": null,
      "metadata": {
        "id": "EmxioqkeFbl-"
      },
      "outputs": [],
      "source": [
        "import numpy as np\n",
        "import cv2\n",
        "from matplotlib import pyplot as plt"
      ]
    },
    {
      "cell_type": "code",
      "source": [
        "import os\n",
        "import imageio\n",
        "from scipy import ndimage\n",
        "\n",
        "DIR = \"tutorial-x-ray-image-processing\"\n",
        "\n",
        "xray_image = imageio.imread(os.path.join(DIR, \"/content/drive/MyDrive/Main_data_set_x_ray_IMG/Morph_opening/covid19/covid19__103.png\"))\n",
        "fourier_gaussian = ndimage.fourier_gaussian(xray_image, sigma=0.1)\n",
        "xray_image_mask_noisy = np.where(xray_image > 150, xray_image, 0)\n",
        "output_not = cv2.bitwise_not(xray_image_mask_noisy)\n",
        "# Find the contours in the thresholded image\n",
        "contours, _ = cv2.findContours(xray_image_mask_noisy, cv2.RETR_TREE, cv2.CHAIN_APPROX_SIMPLE)\n",
        "\n",
        "# Loop through each contour and find the one with the largest area\n",
        "largest_area = 0\n",
        "largest_contour = None\n",
        "for contour in contours:\n",
        "    area = cv2.contourArea(contour)\n",
        "    if area > largest_area:\n",
        "        largest_area = area\n",
        "        largest_contour = contour\n",
        "\n",
        "# Draw the largest contour on a black background\n",
        "mask = np.zeros_like(xray_image_mask_noisy)\n",
        "cv2.drawContours(mask, [largest_contour], 0, (255, 255, 255), -1)\n",
        "\n",
        "# Apply the mask to the original image using bitwise AND operation\n",
        "white_image = np.ones(mask.shape, dtype=np.uint8) * 0\n",
        "\n",
        "# Apply the mask to the white image using bitwise AND operation\n",
        "result = cv2.bitwise_and(output_not, mask)\n",
        "result_output_not = cv2.bitwise_and(output_not, mask)\n",
        "result_not_img = cv2.bitwise_not(result)\n",
        "\n",
        "not_result_not_img = cv2.bitwise_not(result_not_img)\n",
        "\n",
        "not_result_not_img2 = cv2.bitwise_not(not_result_not_img)\n",
        "# Apply thresholding to create a binary mask of the black pixels\n",
        "_, mask = cv2.threshold(not_result_not_img2, 20, 255, cv2.THRESH_BINARY_INV)\n",
        "\n",
        "# Set all black pixels to white\n",
        "#result_3f = cv2.bitwise_or(not_result_not_img2, mask)\n",
        "result_4f = cv2.bitwise_not(mask)\n",
        "result5f = cv2.bitwise_and(mask, xray_image)\n",
        "kernel = np.ones((3,3),np.uint8)\n",
        "opening = cv2.morphologyEx(result5f, cv2.MORPH_OPEN, kernel)\n",
        "\n",
        "plt.imshow(opening, cmap=\"gray\")\n",
        "plt.axis(\"off\")\n",
        "plt.show()"
      ],
      "metadata": {
        "id": "aeftk9P9FcZg"
      },
      "execution_count": null,
      "outputs": []
    },
    {
      "cell_type": "code",
      "source": [
        "import os\n",
        "import cv2\n",
        "import numpy as np\n",
        "from matplotlib import pyplot as plt\n",
        "covid19 = r'/content/drive/MyDrive/SER_preprocessing/Morph_Opening/Covid_19'\n",
        "count = 0\n",
        "for img in os.listdir(covid19):\n",
        "    img_arr = cv2.imread(os.path.join(covid19, img))\n",
        "\n",
        "    #fourier_gaussian = ndimage.fourier_gaussian(img, sigma=0.1)\n",
        "    xray_image_mask_noisy = np.where(xray_image > 150, img, 0)\n",
        "    output_not = cv2.bitwise_not(xray_image_mask_noisy)\n",
        "    # Find the contours in the thresholded image\n",
        "    contours, _ = cv2.findContours(xray_image_mask_noisy, cv2.RETR_TREE, cv2.CHAIN_APPROX_SIMPLE)\n",
        "\n",
        "    # Loop through each contour and find the one with the largest area\n",
        "    largest_area = 0\n",
        "    largest_contour = None\n",
        "    for contour in contours:\n",
        "        area = cv2.contourArea(contour)\n",
        "        if area > largest_area:\n",
        "             largest_area = area\n",
        "             largest_contour = contour\n",
        "\n",
        "    # Draw the largest contour on a black background\n",
        "    mask = np.zeros_like(xray_image_mask_noisy)\n",
        "    cv2.drawContours(mask, [largest_contour], 0, (255, 255, 255), -1)\n",
        "\n",
        "    # Apply the mask to the original image using bitwise AND operation\n",
        "    white_image = np.ones(mask.shape, dtype=np.uint8) * 0\n",
        "\n",
        "    # Apply the mask to the white image using bitwise AND operation\n",
        "    result = cv2.bitwise_and(output_not, mask)\n",
        "    result_output_not = cv2.bitwise_and(output_not, mask)\n",
        "    result_not_img = cv2.bitwise_not(result)\n",
        "\n",
        "    not_result_not_img = cv2.bitwise_not(result_not_img)s\n",
        "\n",
        "    not_result_not_img2 = cv2.bitwise_not(not_result_not_img)\n",
        "    # Apply thresholding to create a binary mask of the black pixels\n",
        "    _, mask = cv2.threshold(not_result_not_img2, 20, 255, cv2.THRESH_BINARY_INV)\n",
        "\n",
        "    # Set all black pixels to white\n",
        "    #result_3f = cv2.bitwise_or(not_result_not_img2, mask)\n",
        "    result_4f = cv2.bitwise_not(mask)\n",
        "    result5f = cv2.bitwise_and(mask, xray_image)\n",
        "    kernel = np.ones((3,3),np.uint8)\n",
        "    opening = cv2.morphologyEx(result5f, cv2.MORPH_OPEN, kernel)\n",
        "\n",
        "    cv2.imwrite(f'/content/drive/MyDrive/Segmentation_work/Covid19/C_{count}.png', opening)"
      ],
      "metadata": {
        "id": "K08-bsamFexo"
      },
      "execution_count": null,
      "outputs": []
    }
  ]
}